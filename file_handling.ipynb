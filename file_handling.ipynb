{
 "cells": [
  {
   "cell_type": "code",
   "execution_count": 1,
   "id": "6e0ac939-05c3-4025-abbb-40966d7c6570",
   "metadata": {},
   "outputs": [
    {
     "name": "stdout",
     "output_type": "stream",
     "text": [
      "His name is Fred\n",
      "His name is Fred\n"
     ]
    }
   ],
   "source": [
    "name = 'Fred'\n",
    "#using old .format() method\n",
    "print(\"His name is {var}\".format(var=name))\n",
    "\n",
    "#using new f-string method\n",
    "print(f\"His name is {name}\")"
   ]
  },
  {
   "cell_type": "code",
   "execution_count": 2,
   "id": "f7e13514-8379-44b6-9a27-1d45fecfa41c",
   "metadata": {},
   "outputs": [
    {
     "name": "stdout",
     "output_type": "stream",
     "text": [
      "His name is 'Fred'\n"
     ]
    }
   ],
   "source": [
    "print(f\"His name is {name!r}\")"
   ]
  },
  {
   "cell_type": "code",
   "execution_count": null,
   "id": "a7342ab4-157b-4455-9a16-9f344809fa69",
   "metadata": {},
   "outputs": [],
   "source": [
    "Be careful not let quotation marks in the replacement fields confilct with the quoting used in the oter string\n"
   ]
  },
  {
   "cell_type": "code",
   "execution_count": 7,
   "id": "bf067cbd-95e3-4a92-9e93-df7cc26c67d0",
   "metadata": {},
   "outputs": [
    {
     "ename": "SyntaxError",
     "evalue": "f-string: unmatched '[' (3050615889.py, line 3)",
     "output_type": "error",
     "traceback": [
      "\u001b[1;36m  Cell \u001b[1;32mIn[7], line 3\u001b[1;36m\u001b[0m\n\u001b[1;33m    print(f'Address: {d['a']} Main Street') #it will give an error bcz of single cote contains double\u001b[0m\n\u001b[1;37m                         ^\u001b[0m\n\u001b[1;31mSyntaxError\u001b[0m\u001b[1;31m:\u001b[0m f-string: unmatched '['\n"
     ]
    }
   ],
   "source": [
    "d={'a':123,'b':456}\n",
    "\n",
    "print(f'Address: {d['a']} Main Street') #it will give an error bcz of single cote contains double"
   ]
  },
  {
   "cell_type": "code",
   "execution_count": 6,
   "id": "ffb356d0-cc2f-47cb-a0a6-a6d2e0d4ea7c",
   "metadata": {},
   "outputs": [
    {
     "name": "stdout",
     "output_type": "stream",
     "text": [
      "Address: 123 Main Street\n"
     ]
    }
   ],
   "source": [
    "d={'a':123,'b':456}\n",
    "print(f\"Address: {d['a']} Main Street\")"
   ]
  },
  {
   "cell_type": "code",
   "execution_count": 10,
   "id": "54b154d2-1e77-4048-b6fe-db0d9948ed7d",
   "metadata": {},
   "outputs": [
    {
     "name": "stdout",
     "output_type": "stream",
     "text": [
      "Author     Topic    Pages  \n",
      "Twain      Rafting      601\n",
      "Feynman    Physics       95\n",
      "Hamilton   Mythology     144\n"
     ]
    }
   ],
   "source": [
    "library = [('Author', 'Topic', 'Pages'),\n",
    "           ('Twain', 'Rafting', 601),\n",
    "           ('Feynman', 'Physics', 95),\n",
    "           ('Hamilton', 'Mythology', 144)]\n",
    "for book in library:\n",
    "    print(f'{book[0]:{10}} {book[1]:{8}} {book[2]:{7}}')\n",
    "    "
   ]
  },
  {
   "cell_type": "code",
   "execution_count": 11,
   "id": "928d7bb7-7e7e-433a-a724-3790cf4ed615",
   "metadata": {},
   "outputs": [
    {
     "name": "stdout",
     "output_type": "stream",
     "text": [
      "Author     Topic    ..Pages\n",
      "Twain      Rafting  ....601\n",
      "Feynman    Physics  .....95\n",
      "Hamilton   Mythology ....144\n"
     ]
    }
   ],
   "source": [
    "library = [('Author', 'Topic', 'Pages'),\n",
    "           ('Twain', 'Rafting', 601),\n",
    "           ('Feynman', 'Physics', 95),\n",
    "           ('Hamilton', 'Mythology', 144)]\n",
    "for book in library:\n",
    "    print(f'{book[0]:{10}} {book[1]:{8}} {book[2]:.>{7}}') #.> for right alignment and get dot dot... becauze we use . before >\n",
    "#< left alignment\n",
    "#> right alignment\n",
    "#^ center alignment\n",
    "    "
   ]
  },
  {
   "cell_type": "code",
   "execution_count": 1,
   "id": "41b37579-1c6e-49bf-b44c-e89968fa5577",
   "metadata": {},
   "outputs": [
    {
     "name": "stdout",
     "output_type": "stream",
     "text": [
      "August 22, 2024\n"
     ]
    }
   ],
   "source": [
    "#Date formating\n",
    "from datetime import datetime\n",
    "today = datetime(year=2024, month=8, day=22)\n",
    "print(f\"{today:%B %d, %Y}\")"
   ]
  }
 ],
 "metadata": {
  "kernelspec": {
   "display_name": "Python 3 (ipykernel)",
   "language": "python",
   "name": "python3"
  },
  "language_info": {
   "codemirror_mode": {
    "name": "ipython",
    "version": 3
   },
   "file_extension": ".py",
   "mimetype": "text/x-python",
   "name": "python",
   "nbconvert_exporter": "python",
   "pygments_lexer": "ipython3",
   "version": "3.11.7"
  }
 },
 "nbformat": 4,
 "nbformat_minor": 5
}
