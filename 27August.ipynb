{
 "cells": [
  {
   "cell_type": "code",
   "execution_count": 1,
   "id": "f9f5bc5f-004f-412b-abe7-2d78e0d0f4a9",
   "metadata": {},
   "outputs": [
    {
     "data": {
      "text/plain": [
       "['2']"
      ]
     },
     "execution_count": 1,
     "metadata": {},
     "output_type": "execute_result"
    }
   ],
   "source": [
    "#Ends with a number\n",
    "import re\n",
    "re.findall(r'\\d$','This ends with a number 2')"
   ]
  },
  {
   "cell_type": "code",
   "execution_count": 2,
   "id": "43ace540-fe86-436d-aa97-9fa3c84220eb",
   "metadata": {},
   "outputs": [
    {
     "data": {
      "text/plain": [
       "['1']"
      ]
     },
     "execution_count": 2,
     "metadata": {},
     "output_type": "execute_result"
    }
   ],
   "source": [
    "#starts with a number\n",
    "re.findall(r'^\\d','1 is the loneliest number.')"
   ]
  },
  {
   "cell_type": "code",
   "execution_count": 3,
   "id": "8ea815e4-d80f-4849-8002-614b7ad1145c",
   "metadata": {},
   "outputs": [],
   "source": [
    "phrase = \"there are 3 numbers 34 inside 5 this sentence\""
   ]
  },
  {
   "cell_type": "code",
   "execution_count": 4,
   "id": "541f6746-6667-4ac1-9169-f4623a5ebf6f",
   "metadata": {},
   "outputs": [],
   "source": [
    "text=re.findall(r'[^\\d]+',phrase)\n",
    "#if we want word together then give + sign"
   ]
  },
  {
   "cell_type": "code",
   "execution_count": 5,
   "id": "9814f823-bf6d-4057-8711-dc9103a6e14b",
   "metadata": {},
   "outputs": [
    {
     "data": {
      "text/plain": [
       "['there are ', ' numbers ', ' inside ', ' this sentence']"
      ]
     },
     "execution_count": 5,
     "metadata": {},
     "output_type": "execute_result"
    }
   ],
   "source": [
    "text"
   ]
  },
  {
   "cell_type": "code",
   "execution_count": 6,
   "id": "50c551a1-c40b-4973-ae5c-41e6762da767",
   "metadata": {},
   "outputs": [],
   "source": [
    "text=re.findall(r'[^\\d]',phrase)\n",
    "#if + sign is not given then word come seprate"
   ]
  },
  {
   "cell_type": "code",
   "execution_count": 7,
   "id": "bb63b047-5c2d-4498-b9fd-e0acacd39c29",
   "metadata": {},
   "outputs": [
    {
     "data": {
      "text/plain": [
       "['t',\n",
       " 'h',\n",
       " 'e',\n",
       " 'r',\n",
       " 'e',\n",
       " ' ',\n",
       " 'a',\n",
       " 'r',\n",
       " 'e',\n",
       " ' ',\n",
       " ' ',\n",
       " 'n',\n",
       " 'u',\n",
       " 'm',\n",
       " 'b',\n",
       " 'e',\n",
       " 'r',\n",
       " 's',\n",
       " ' ',\n",
       " ' ',\n",
       " 'i',\n",
       " 'n',\n",
       " 's',\n",
       " 'i',\n",
       " 'd',\n",
       " 'e',\n",
       " ' ',\n",
       " ' ',\n",
       " 't',\n",
       " 'h',\n",
       " 'i',\n",
       " 's',\n",
       " ' ',\n",
       " 's',\n",
       " 'e',\n",
       " 'n',\n",
       " 't',\n",
       " 'e',\n",
       " 'n',\n",
       " 'c',\n",
       " 'e']"
      ]
     },
     "execution_count": 7,
     "metadata": {},
     "output_type": "execute_result"
    }
   ],
   "source": [
    "text"
   ]
  },
  {
   "cell_type": "code",
   "execution_count": 12,
   "id": "9e0976a7-1827-4db3-8812-de2a66276209",
   "metadata": {},
   "outputs": [],
   "source": [
    "test_phrase = \"This is string! But it has punctuation. How can remove it?\""
   ]
  },
  {
   "cell_type": "code",
   "execution_count": 13,
   "id": "f9901507-3aab-4fb6-8825-98b1d3367b37",
   "metadata": {},
   "outputs": [
    {
     "data": {
      "text/plain": [
       "['This',\n",
       " 'is',\n",
       " 'string',\n",
       " 'But',\n",
       " 'it',\n",
       " 'has',\n",
       " 'punctuation',\n",
       " 'How',\n",
       " 'can',\n",
       " 'remove',\n",
       " 'it']"
      ]
     },
     "execution_count": 13,
     "metadata": {},
     "output_type": "execute_result"
    }
   ],
   "source": [
    "re.findall('[^!.? ]+',test_phrase)\n",
    "#remove punctuation marks"
   ]
  },
  {
   "cell_type": "code",
   "execution_count": 14,
   "id": "c3681fec-748a-4f12-8fcc-4419836ec84e",
   "metadata": {},
   "outputs": [],
   "source": [
    "clean = ' '.join(re.findall('[^!.? ]+',test_phrase))"
   ]
  },
  {
   "cell_type": "code",
   "execution_count": 15,
   "id": "94577660-2106-4b7a-8468-1ca7356a47c8",
   "metadata": {},
   "outputs": [
    {
     "data": {
      "text/plain": [
       "'This is string But it has punctuation How can remove it'"
      ]
     },
     "execution_count": 15,
     "metadata": {},
     "output_type": "execute_result"
    }
   ],
   "source": [
    "clean"
   ]
  },
  {
   "cell_type": "code",
   "execution_count": 19,
   "id": "19841d88-c6ec-44b3-a0b4-ef98a68acc25",
   "metadata": {},
   "outputs": [],
   "source": [
    "#find words that start with cat and end with one of these options: 'fish','nap','claw'\n",
    "text=\"Hello, would you like some catfish?\"\n",
    "texttwo=\"Hello, would you like to take a catnap?\"\n",
    "textthree=\"Hello, have you seen this caterpillar?\""
   ]
  },
  {
   "cell_type": "code",
   "execution_count": 17,
   "id": "a6fa8761-38dc-4f08-8070-c011cfddcb3f",
   "metadata": {},
   "outputs": [
    {
     "data": {
      "text/plain": [
       "<re.Match object; span=(27, 34), match='catfish'>"
      ]
     },
     "execution_count": 17,
     "metadata": {},
     "output_type": "execute_result"
    }
   ],
   "source": [
    "re.search(r'cat(fish|nap|claw)',text)"
   ]
  },
  {
   "cell_type": "code",
   "execution_count": 18,
   "id": "01abc1a4-5a1c-43d9-b411-3ceafe097821",
   "metadata": {},
   "outputs": [
    {
     "data": {
      "text/plain": [
       "<re.Match object; span=(32, 38), match='catnap'>"
      ]
     },
     "execution_count": 18,
     "metadata": {},
     "output_type": "execute_result"
    }
   ],
   "source": [
    "re.search(r'cat(fish|nap|claw)',texttwo)"
   ]
  },
  {
   "cell_type": "code",
   "execution_count": 20,
   "id": "e8f21f92-2d74-43e2-a768-45e892caa284",
   "metadata": {},
   "outputs": [],
   "source": [
    "#none return\n",
    "re.search(r'cat(fish|nap|claw)',textthree)"
   ]
  },
  {
   "cell_type": "code",
   "execution_count": 21,
   "id": "9907ab3f-973e-42e5-a48a-2909addc39f5",
   "metadata": {},
   "outputs": [],
   "source": []
  },
  {
   "cell_type": "code",
   "execution_count": null,
   "id": "a68a2d41-c848-451e-a749-01e1d9467a5c",
   "metadata": {},
   "outputs": [],
   "source": []
  }
 ],
 "metadata": {
  "kernelspec": {
   "display_name": "Python 3 (ipykernel)",
   "language": "python",
   "name": "python3"
  },
  "language_info": {
   "codemirror_mode": {
    "name": "ipython",
    "version": 3
   },
   "file_extension": ".py",
   "mimetype": "text/x-python",
   "name": "python",
   "nbconvert_exporter": "python",
   "pygments_lexer": "ipython3",
   "version": "3.11.7"
  }
 },
 "nbformat": 4,
 "nbformat_minor": 5
}
