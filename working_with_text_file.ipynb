{
 "cells": [
  {
   "cell_type": "code",
   "execution_count": 1,
   "id": "66b50c43-0f8c-49b0-9c71-31c07fd2e1ff",
   "metadata": {},
   "outputs": [
    {
     "data": {
      "text/plain": [
       "'C:\\\\Users\\\\om\\\\text_mining'"
      ]
     },
     "execution_count": 1,
     "metadata": {},
     "output_type": "execute_result"
    }
   ],
   "source": [
    "pwd"
   ]
  },
  {
   "cell_type": "code",
   "execution_count": 2,
   "id": "4d682993-9a5c-43aa-a9b5-8d3099a9d7e2",
   "metadata": {},
   "outputs": [
    {
     "name": "stdout",
     "output_type": "stream",
     "text": [
      "Overwriting test.txt\n"
     ]
    }
   ],
   "source": [
    "%%writefile test.txt\n",
    "Hello, this is a quick test file.\n",
    "This is the second line of the file."
   ]
  },
  {
   "cell_type": "code",
   "execution_count": 3,
   "id": "f9ab8c90-dfba-4732-b328-1eab4e43182e",
   "metadata": {},
   "outputs": [],
   "source": [
    "#open the test.txt file we created eariler\n",
    "my_file = open(\"test.txt\")"
   ]
  },
  {
   "cell_type": "code",
   "execution_count": 4,
   "id": "8f5c3f0c-eed7-4ab4-b46e-648947f84a0a",
   "metadata": {},
   "outputs": [
    {
     "data": {
      "text/plain": [
       "'Hello, this is a quick test file.\\nThis is the second line of the file.\\n'"
      ]
     },
     "execution_count": 4,
     "metadata": {},
     "output_type": "execute_result"
    }
   ],
   "source": [
    "#we can now read the file\n",
    "my_file.read()"
   ]
  },
  {
   "cell_type": "code",
   "execution_count": 5,
   "id": "4983c4b3-70d0-444a-8b08-efb2524d69f7",
   "metadata": {},
   "outputs": [
    {
     "data": {
      "text/plain": [
       "''"
      ]
     },
     "execution_count": 5,
     "metadata": {},
     "output_type": "execute_result"
    }
   ],
   "source": [
    "#But what happen if we read it to again?\n",
    "my_file.read()\n",
    "#this happens because you can imagine the reading \"cursor\" is at the end of the file after having read it. \n",
    "#so there is nothing left to head. We can set the cursor like this"
   ]
  },
  {
   "cell_type": "code",
   "execution_count": 6,
   "id": "c0cdb159-a5e5-4861-904b-5391fd1899ee",
   "metadata": {},
   "outputs": [
    {
     "data": {
      "text/plain": [
       "0"
      ]
     },
     "execution_count": 6,
     "metadata": {},
     "output_type": "execute_result"
    }
   ],
   "source": [
    "#seek to the start of the file (index 0)\n",
    "my_file.seek(0)"
   ]
  },
  {
   "cell_type": "code",
   "execution_count": 7,
   "id": "918e88b8-0a0c-4cfe-8881-fb0947455d09",
   "metadata": {},
   "outputs": [
    {
     "data": {
      "text/plain": [
       "'Hello, this is a quick test file.\\nThis is the second line of the file.\\n'"
      ]
     },
     "execution_count": 7,
     "metadata": {},
     "output_type": "execute_result"
    }
   ],
   "source": [
    "#now read it again?\n",
    "my_file.read()"
   ]
  },
  {
   "cell_type": "code",
   "execution_count": 8,
   "id": "86f9bd1d-eb86-4f6b-914e-09c59e717a44",
   "metadata": {},
   "outputs": [
    {
     "data": {
      "text/plain": [
       "['Hello, this is a quick test file.\\n',\n",
       " 'This is the second line of the file.\\n']"
      ]
     },
     "execution_count": 8,
     "metadata": {},
     "output_type": "execute_result"
    }
   ],
   "source": [
    "#readlines returns a list of the lines in the file\n",
    "my_file.seek(0)\n",
    "my_file.readlines()"
   ]
  },
  {
   "cell_type": "code",
   "execution_count": 9,
   "id": "eba4dd80-4fff-4653-bb00-ef37e75bc2a6",
   "metadata": {},
   "outputs": [],
   "source": [
    "#when we finished to file it always good practice to close it\n",
    "my_file.close()"
   ]
  },
  {
   "cell_type": "code",
   "execution_count": 14,
   "id": "b5df1d6f-d6c4-45d0-97f3-a35e3a5d9018",
   "metadata": {},
   "outputs": [],
   "source": [
    "#writing to a file\n",
    "#By default the open() function will only allow us to read the file.we need to pass 'w' argument to write a file. for eg"
   ]
  },
  {
   "cell_type": "code",
   "execution_count": 19,
   "id": "993f0a26-cc95-424a-a5ea-46cc17cceaa8",
   "metadata": {},
   "outputs": [],
   "source": [
    "#add a second argument to the function, 'w' which stands for write.\n",
    "#passing 'w+' lets us read and write to the file\n",
    "my_file = open('test.txt','w+')"
   ]
  },
  {
   "cell_type": "code",
   "execution_count": 20,
   "id": "ca308c56-728e-4c55-a9c7-4b93b20e4fcc",
   "metadata": {},
   "outputs": [
    {
     "data": {
      "text/plain": [
       "24"
      ]
     },
     "execution_count": 20,
     "metadata": {},
     "output_type": "execute_result"
    }
   ],
   "source": [
    "#write to the file\n",
    "my_file.write('This is a new first line')"
   ]
  },
  {
   "cell_type": "code",
   "execution_count": 21,
   "id": "79c61bbd-b84f-4ee2-8809-8d63c29780dd",
   "metadata": {},
   "outputs": [
    {
     "data": {
      "text/plain": [
       "'This is a new first lineended to test.txt\\nAnd another line here.'"
      ]
     },
     "execution_count": 21,
     "metadata": {},
     "output_type": "execute_result"
    }
   ],
   "source": [
    "#read the file\n",
    "my_file.seek(0)\n",
    "my_file.read()"
   ]
  },
  {
   "cell_type": "code",
   "execution_count": 22,
   "id": "63c4f148-8fde-467f-9da0-9de3bc4a2e6b",
   "metadata": {},
   "outputs": [],
   "source": [
    "my_file.close() #always do this when you're done with a file"
   ]
  },
  {
   "cell_type": "code",
   "execution_count": 23,
   "id": "96f2749e-cc9e-4300-ae1f-008dae361cdd",
   "metadata": {},
   "outputs": [
    {
     "data": {
      "text/plain": [
       "\"\\nPassing the argument 'a' opens the file and puts the pointer at the end, so anything written is append. Like 'w+', 'a+' lets us \\nread and write to a file. If the file does not exist, one will be created\\n\""
      ]
     },
     "execution_count": 23,
     "metadata": {},
     "output_type": "execute_result"
    }
   ],
   "source": [
    "#appending to a file\n",
    "'''\n",
    "Passing the argument 'a' opens the file and puts the pointer at the end, so anything written is append. Like 'w+', 'a+' lets us \n",
    "read and write to a file. If the file does not exist, one will be created\n",
    "'''"
   ]
  },
  {
   "cell_type": "code",
   "execution_count": 24,
   "id": "ff2a45f0-036b-47a1-a5ad-b7b9555c0fe0",
   "metadata": {},
   "outputs": [
    {
     "data": {
      "text/plain": [
       "23"
      ]
     },
     "execution_count": 24,
     "metadata": {},
     "output_type": "execute_result"
    }
   ],
   "source": [
    "my_file = open('test.txt','a+')\n",
    "my_file.write('\\nThis line is being appended to test.txt')\n",
    "my_file.write('\\nAnd another line here.')"
   ]
  },
  {
   "cell_type": "code",
   "execution_count": 25,
   "id": "46e48b57-af82-4074-8312-dd89a615bb7f",
   "metadata": {},
   "outputs": [
    {
     "name": "stdout",
     "output_type": "stream",
     "text": [
      "This is a new first lineended to test.txt\n",
      "And another line here.\n",
      "This line is being appended to test.txt\n",
      "And another line here.\n"
     ]
    }
   ],
   "source": [
    "my_file.seek(0)\n",
    "print(my_file.read())"
   ]
  },
  {
   "cell_type": "code",
   "execution_count": 26,
   "id": "0ef06a82-7f9f-4e63-b11a-cfa0ca0e3ba1",
   "metadata": {},
   "outputs": [],
   "source": [
    "my_file.close()"
   ]
  },
  {
   "cell_type": "code",
   "execution_count": null,
   "id": "4d319c6d-7e19-4f00-90da-e3920a39a2e2",
   "metadata": {},
   "outputs": [],
   "source": []
  }
 ],
 "metadata": {
  "kernelspec": {
   "display_name": "Python 3 (ipykernel)",
   "language": "python",
   "name": "python3"
  },
  "language_info": {
   "codemirror_mode": {
    "name": "ipython",
    "version": 3
   },
   "file_extension": ".py",
   "mimetype": "text/x-python",
   "name": "python",
   "nbconvert_exporter": "python",
   "pygments_lexer": "ipython3",
   "version": "3.11.7"
  }
 },
 "nbformat": 4,
 "nbformat_minor": 5
}
